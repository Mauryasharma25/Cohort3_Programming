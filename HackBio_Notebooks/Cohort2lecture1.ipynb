{
 "cells": [
  {
   "cell_type": "code",
   "execution_count": 7,
   "metadata": {},
   "outputs": [
    {
     "data": {
      "text/plain": [
       "'Name'"
      ]
     },
     "execution_count": 7,
     "metadata": {},
     "output_type": "execute_result"
    }
   ],
   "source": [
    "# variable assignment\n",
    "'''Variable assigment'''\n",
    "z=\"Name\"\n",
    "z"
   ]
  },
  {
   "cell_type": "code",
   "execution_count": 10,
   "metadata": {},
   "outputs": [
    {
     "name": "stdout",
     "output_type": "stream",
     "text": [
      "18\n"
     ]
    }
   ],
   "source": [
    "x=8\n",
    "y=10\n",
    "x+y\n",
    "s=90\n",
    "print(x+y)"
   ]
  },
  {
   "cell_type": "code",
   "execution_count": 9,
   "metadata": {},
   "outputs": [
    {
     "data": {
      "text/plain": [
       "18"
      ]
     },
     "execution_count": 9,
     "metadata": {},
     "output_type": "execute_result"
    }
   ],
   "source": [
    "8+10 #mathematical operations"
   ]
  },
  {
   "cell_type": "code",
   "execution_count": 12,
   "metadata": {},
   "outputs": [
    {
     "name": "stdout",
     "output_type": "stream",
     "text": [
      "False\n"
     ]
    },
    {
     "data": {
      "text/plain": [
       "True"
      ]
     },
     "execution_count": 12,
     "metadata": {},
     "output_type": "execute_result"
    }
   ],
   "source": [
    "#comparison\n",
    "print(x==y)\n",
    "z=90\n",
    "s==z"
   ]
  },
  {
   "cell_type": "code",
   "execution_count": 11,
   "metadata": {},
   "outputs": [
    {
     "data": {
      "text/plain": [
       "True"
      ]
     },
     "execution_count": 11,
     "metadata": {},
     "output_type": "execute_result"
    }
   ],
   "source": [
    "x!=y"
   ]
  },
  {
   "cell_type": "markdown",
   "metadata": {},
   "source": [
    "# datatypes"
   ]
  },
  {
   "cell_type": "code",
   "execution_count": 13,
   "metadata": {},
   "outputs": [],
   "source": [
    "# integers\n",
    "w=10\n",
    "p=-20"
   ]
  },
  {
   "cell_type": "code",
   "execution_count": 14,
   "metadata": {},
   "outputs": [
    {
     "data": {
      "text/plain": [
       "-200"
      ]
     },
     "execution_count": 14,
     "metadata": {},
     "output_type": "execute_result"
    }
   ],
   "source": [
    "w*p"
   ]
  },
  {
   "cell_type": "code",
   "execution_count": 15,
   "metadata": {},
   "outputs": [
    {
     "data": {
      "text/plain": [
       "200"
      ]
     },
     "execution_count": 15,
     "metadata": {},
     "output_type": "execute_result"
    }
   ],
   "source": [
    "w*abs(p)"
   ]
  },
  {
   "cell_type": "code",
   "execution_count": 22,
   "metadata": {},
   "outputs": [
    {
     "name": "stdout",
     "output_type": "stream",
     "text": [
      "-20\n",
      "Name\n",
      "8\n",
      "90\n",
      "<class 'int'>\n"
     ]
    }
   ],
   "source": [
    "print(p)\n",
    "print(z)\n",
    "print(x)\n",
    "print(s)\n",
    "print(type(y))"
   ]
  },
  {
   "cell_type": "code",
   "execution_count": 21,
   "metadata": {},
   "outputs": [
    {
     "data": {
      "text/plain": [
       "float"
      ]
     },
     "execution_count": 21,
     "metadata": {},
     "output_type": "execute_result"
    }
   ],
   "source": [
    "# float\n",
    "t=2.0\n",
    "type(t)"
   ]
  },
  {
   "cell_type": "code",
   "execution_count": 25,
   "metadata": {},
   "outputs": [
    {
     "data": {
      "text/plain": [
       "str"
      ]
     },
     "execution_count": 25,
     "metadata": {},
     "output_type": "execute_result"
    }
   ],
   "source": [
    "# strings\n",
    "fname='Beatrice'\n",
    "type(fname)"
   ]
  },
  {
   "cell_type": "code",
   "execution_count": 32,
   "metadata": {},
   "outputs": [
    {
     "data": {
      "text/plain": [
       "'Beatrice_Oj'"
      ]
     },
     "execution_count": 32,
     "metadata": {},
     "output_type": "execute_result"
    }
   ],
   "source": [
    "\"Beatrice\"+\"_\"+\"Oj\""
   ]
  },
  {
   "cell_type": "code",
   "execution_count": 33,
   "metadata": {},
   "outputs": [
    {
     "name": "stdout",
     "output_type": "stream",
     "text": [
      "<class 'bool'>\n"
     ]
    }
   ],
   "source": [
    "# bool\n",
    "f=False\n",
    "print(type(f))\n",
    "d=True"
   ]
  },
  {
   "cell_type": "code",
   "execution_count": 31,
   "metadata": {},
   "outputs": [
    {
     "data": {
      "text/plain": [
       "bool"
      ]
     },
     "execution_count": 31,
     "metadata": {},
     "output_type": "execute_result"
    }
   ],
   "source": [
    "type(d)"
   ]
  },
  {
   "cell_type": "markdown",
   "metadata": {},
   "source": [
    "# data structures"
   ]
  },
  {
   "cell_type": "code",
   "execution_count": 16,
   "metadata": {},
   "outputs": [
    {
     "data": {
      "text/plain": [
       "[1, 2, 3, 4, 5, 6]"
      ]
     },
     "execution_count": 16,
     "metadata": {},
     "output_type": "execute_result"
    }
   ],
   "source": [
    "# List\n",
    "# help(list) # getting help\n",
    "lst1=[1,2,3,4,5,6]\n",
    "lst1"
   ]
  },
  {
   "cell_type": "code",
   "execution_count": 23,
   "metadata": {},
   "outputs": [
    {
     "data": {
      "text/plain": [
       "[2, 3, 4, 'winfred', True, 45, 67, 'Immanuel', 30.5, ['apple']]"
      ]
     },
     "execution_count": 23,
     "metadata": {},
     "output_type": "execute_result"
    }
   ],
   "source": [
    "lst2=[2,3,4,\"winfred\",True,45,67,\"Immanuel\",30.5,[\"apple\"]]\n",
    "lst2"
   ]
  },
  {
   "cell_type": "code",
   "execution_count": 22,
   "metadata": {},
   "outputs": [
    {
     "data": {
      "text/plain": [
       "[2, 3, 4, 'winfred', True]"
      ]
     },
     "execution_count": 22,
     "metadata": {},
     "output_type": "execute_result"
    }
   ],
   "source": [
    "lst2[0:5]"
   ]
  },
  {
   "cell_type": "code",
   "execution_count": 25,
   "metadata": {},
   "outputs": [],
   "source": [
    "\n",
    "lst3=[\"ATGCATGAT\",[2,10,\"WRKLSNIM\"],35]"
   ]
  },
  {
   "cell_type": "code",
   "execution_count": 26,
   "metadata": {},
   "outputs": [],
   "source": [
    "lst3.append(7)"
   ]
  },
  {
   "cell_type": "code",
   "execution_count": 29,
   "metadata": {},
   "outputs": [
    {
     "data": {
      "text/plain": [
       "'WRKLSNIM'"
      ]
     },
     "execution_count": 29,
     "metadata": {},
     "output_type": "execute_result"
    }
   ],
   "source": [
    "lst3[1][-1]"
   ]
  },
  {
   "cell_type": "code",
   "execution_count": 14,
   "metadata": {},
   "outputs": [
    {
     "data": {
      "text/plain": [
       "[1,\n",
       " 2,\n",
       " 3,\n",
       " 4,\n",
       " 5,\n",
       " 6,\n",
       " 2,\n",
       " 3,\n",
       " 4,\n",
       " 'winfred',\n",
       " True,\n",
       " 45,\n",
       " 67,\n",
       " 'Immanuel',\n",
       " 'ATGCATGAT',\n",
       " [2, 10, 'WRKLSNIM'],\n",
       " 35]"
      ]
     },
     "execution_count": 14,
     "metadata": {},
     "output_type": "execute_result"
    }
   ],
   "source": [
    "lst1+lst2+lst3"
   ]
  },
  {
   "cell_type": "code",
   "execution_count": 64,
   "metadata": {},
   "outputs": [
    {
     "data": {
      "text/plain": [
       "tuple"
      ]
     },
     "execution_count": 64,
     "metadata": {},
     "output_type": "execute_result"
    }
   ],
   "source": [
    "# tuples\n",
    "tupl1=(2,3)\n",
    "type(tupl1)"
   ]
  },
  {
   "cell_type": "code",
   "execution_count": 34,
   "metadata": {},
   "outputs": [
    {
     "data": {
      "text/plain": [
       "1"
      ]
     },
     "execution_count": 34,
     "metadata": {},
     "output_type": "execute_result"
    }
   ],
   "source": [
    "# dictionaries\n",
    "dict1={\"fname\":\"Winfred\",\"one\":1}\n",
    "dict1[\"one\"]\n"
   ]
  },
  {
   "cell_type": "code",
   "execution_count": 37,
   "metadata": {},
   "outputs": [
    {
     "name": "stdout",
     "output_type": "stream",
     "text": [
      "dict_values(['Winfred', 1])\n"
     ]
    },
    {
     "data": {
      "text/plain": [
       "dict_keys(['fname', 'one'])"
      ]
     },
     "execution_count": 37,
     "metadata": {},
     "output_type": "execute_result"
    }
   ],
   "source": [
    "print(dict1.values())\n",
    "dict1.keys()"
   ]
  },
  {
   "cell_type": "code",
   "execution_count": 74,
   "metadata": {},
   "outputs": [],
   "source": [
    "dict2={\"T\":\"A\",\"G\":\"C\"}"
   ]
  },
  {
   "cell_type": "code",
   "execution_count": 38,
   "metadata": {},
   "outputs": [],
   "source": [
    "# sets\n",
    "set1=set([1,2,3,1,2,3,])"
   ]
  },
  {
   "cell_type": "code",
   "execution_count": 39,
   "metadata": {},
   "outputs": [
    {
     "data": {
      "text/plain": [
       "{1, 2, 3}"
      ]
     },
     "execution_count": 39,
     "metadata": {},
     "output_type": "execute_result"
    }
   ],
   "source": [
    "set1"
   ]
  },
  {
   "cell_type": "code",
   "execution_count": 40,
   "metadata": {},
   "outputs": [],
   "source": [
    "set2=set(\"ATGCATGACNABTNAG\")"
   ]
  },
  {
   "cell_type": "code",
   "execution_count": 42,
   "metadata": {},
   "outputs": [
    {
     "name": "stdout",
     "output_type": "stream",
     "text": [
      "invalid base\n",
      "invalid base\n",
      "valid\n",
      "valid\n",
      "valid\n",
      "valid\n"
     ]
    }
   ],
   "source": [
    "set2\n",
    "base=[\"A\",\"T\",\"G\",\"C\"]\n",
    "for nuc in set2:\n",
    "    if nuc not in base:\n",
    "        print(\"invalid base\")\n",
    "    else:\n",
    "        print(\"valid\")"
   ]
  },
  {
   "cell_type": "code",
   "execution_count": 86,
   "metadata": {},
   "outputs": [
    {
     "data": {
      "text/plain": [
       "6"
      ]
     },
     "execution_count": 86,
     "metadata": {},
     "output_type": "execute_result"
    }
   ],
   "source": [
    "len(set2)"
   ]
  },
  {
   "cell_type": "markdown",
   "metadata": {},
   "source": [
    "# Control statements"
   ]
  },
  {
   "cell_type": "code",
   "execution_count": 51,
   "metadata": {},
   "outputs": [
    {
     "name": "stdout",
     "output_type": "stream",
     "text": [
      "this is true\n"
     ]
    }
   ],
   "source": [
    "# if\n",
    "x=10\n",
    "if x==10:\n",
    "    print(\"this is true\")\n",
    "    \n",
    "    "
   ]
  },
  {
   "cell_type": "code",
   "execution_count": 50,
   "metadata": {},
   "outputs": [
    {
     "name": "stdout",
     "output_type": "stream",
     "text": [
      "this is true\n"
     ]
    }
   ],
   "source": [
    "# if -else\n",
    "if x==10:\n",
    "    print(\"this is true\")\n",
    "else:\n",
    "    print(\"this is not true\")"
   ]
  },
  {
   "cell_type": "code",
   "execution_count": 52,
   "metadata": {},
   "outputs": [
    {
     "name": "stdout",
     "output_type": "stream",
     "text": [
      "this is true\n"
     ]
    }
   ],
   "source": [
    "# elif\n",
    "if x <10:\n",
    "    print(\"hello world\")\n",
    "elif x>10:\n",
    "    print(\"this is not true\")\n",
    "elif x==10:\n",
    "    print(\"this is true\")\n",
    "else:\n",
    "    print(\"this is not true\")"
   ]
  },
  {
   "cell_type": "code",
   "execution_count": 53,
   "metadata": {},
   "outputs": [
    {
     "name": "stdout",
     "output_type": "stream",
     "text": [
      "2\n",
      "3\n",
      "4\n",
      "winfred\n",
      "True\n",
      "45\n",
      "67\n",
      "Immanuel\n",
      "30.5\n",
      "['apple']\n"
     ]
    }
   ],
   "source": [
    "# loops\n",
    "# for loops\n",
    "for i in lst2:\n",
    "    print(i)"
   ]
  },
  {
   "cell_type": "code",
   "execution_count": 54,
   "metadata": {},
   "outputs": [
    {
     "name": "stdout",
     "output_type": "stream",
     "text": [
      "5\n",
      "6\n",
      "7\n",
      "8\n",
      "9\n"
     ]
    }
   ],
   "source": [
    "# while loops\n",
    "w=5\n",
    "while w<10:\n",
    "    print(w)\n",
    "    w=w+1\n",
    "    "
   ]
  },
  {
   "cell_type": "code",
   "execution_count": 58,
   "metadata": {},
   "outputs": [
    {
     "name": "stdin",
     "output_type": "stream",
     "text": [
      "Please enter a number 3\n"
     ]
    },
    {
     "name": "stdout",
     "output_type": "stream",
     "text": [
      "6\n"
     ]
    }
   ],
   "source": [
    "# try and except\n",
    "num=int(input(\"Please enter a number\"))\n",
    "import math\n",
    "try:\n",
    "    fact=math.factorial(num)\n",
    "    print(fact)\n",
    "    \n",
    "except ValueError:\n",
    "    print(\"No factorial for negative numbers\")"
   ]
  },
  {
   "cell_type": "code",
   "execution_count": 6,
   "metadata": {},
   "outputs": [],
   "source": [
    "def fact(num):\n",
    "    num=int(input(\"Please enter a number\"))\n",
    "    import math\n",
    "    try:\n",
    "        fact=math.factorial(num)\n",
    "        print(fact)\n",
    "    \n",
    "    except ValueError:\n",
    "        print(\"No factorial for negative numbers\")"
   ]
  },
  {
   "cell_type": "code",
   "execution_count": 7,
   "metadata": {},
   "outputs": [
    {
     "name": "stdin",
     "output_type": "stream",
     "text": [
      "Please enter a number -3\n"
     ]
    },
    {
     "name": "stdout",
     "output_type": "stream",
     "text": [
      "No factorial for negative numbers\n"
     ]
    }
   ],
   "source": [
    "fact(3)"
   ]
  },
  {
   "cell_type": "code",
   "execution_count": 9,
   "metadata": {},
   "outputs": [],
   "source": [
    "# Functions\n",
    "# keyword def\n",
    "def addtwo(x,y):\n",
    "    \"\"\"a function for adding two numbers\"\"\"\n",
    "    sum_two=x+y\n",
    "    return sum_two\n",
    "    "
   ]
  },
  {
   "cell_type": "code",
   "execution_count": 11,
   "metadata": {},
   "outputs": [
    {
     "data": {
      "text/plain": [
       "8"
      ]
     },
     "execution_count": 11,
     "metadata": {},
     "output_type": "execute_result"
    }
   ],
   "source": [
    "addtwo(5,3)"
   ]
  },
  {
   "cell_type": "code",
   "execution_count": 7,
   "metadata": {},
   "outputs": [
    {
     "data": {
      "text/plain": [
       "120"
      ]
     },
     "execution_count": 7,
     "metadata": {},
     "output_type": "execute_result"
    }
   ],
   "source": [
    "addtwo(100,20)"
   ]
  },
  {
   "cell_type": "code",
   "execution_count": 10,
   "metadata": {},
   "outputs": [
    {
     "name": "stdout",
     "output_type": "stream",
     "text": [
      "Help on function addtwo in module __main__:\n",
      "\n",
      "addtwo(x, y)\n",
      "    a function for adding two numbers\n",
      "\n"
     ]
    }
   ],
   "source": [
    "help(addtwo)"
   ]
  },
  {
   "cell_type": "code",
   "execution_count": 12,
   "metadata": {},
   "outputs": [],
   "source": [
    "DNA=\"ATCGTACGTA\"\n",
    "G_count=DNA.count(\"G\")\n",
    "C_count=DNA.count(\"C\")\n",
    "GC_PERC=(((G_count+C_count)/(len(DNA))*100))"
   ]
  },
  {
   "cell_type": "code",
   "execution_count": 16,
   "metadata": {},
   "outputs": [
    {
     "data": {
      "text/plain": [
       "40.0"
      ]
     },
     "execution_count": 16,
     "metadata": {},
     "output_type": "execute_result"
    }
   ],
   "source": [
    "GC_PERC"
   ]
  },
  {
   "cell_type": "code",
   "execution_count": 17,
   "metadata": {},
   "outputs": [],
   "source": [
    "def GC_Perc(DNA):\n",
    "    G_count=DNA.count(\"G\")\n",
    "    C_count=DNA.count(\"C\")\n",
    "    GC_PERC=(((G_count+C_count)/(len(DNA))*100))\n",
    "    return GC_PERC\n",
    "    \n",
    "    "
   ]
  },
  {
   "cell_type": "code",
   "execution_count": 18,
   "metadata": {},
   "outputs": [
    {
     "data": {
      "text/plain": [
       "40.0"
      ]
     },
     "execution_count": 18,
     "metadata": {},
     "output_type": "execute_result"
    }
   ],
   "source": [
    "GC_Perc(DNA)"
   ]
  },
  {
   "cell_type": "code",
   "execution_count": 19,
   "metadata": {},
   "outputs": [
    {
     "name": "stdout",
     "output_type": "stream",
     "text": [
      "1\n",
      "2\n",
      "3\n",
      "4\n"
     ]
    }
   ],
   "source": [
    "#ITERATIVE\n",
    "lst1=[1,2,3,4]\n",
    "for element in lst1:\n",
    "    print(element)"
   ]
  },
  {
   "cell_type": "code",
   "execution_count": 20,
   "metadata": {},
   "outputs": [],
   "source": [
    "# recursive\n",
    "def power(a,n):\n",
    "    if n==1:\n",
    "        return a\n",
    "    return a*power(a,n-1)"
   ]
  },
  {
   "cell_type": "code",
   "execution_count": 36,
   "metadata": {},
   "outputs": [],
   "source": [
    "#OOP\n",
    "class Student():\n",
    "    \"\"\"initialising class student\"\"\"\n",
    "    def __init__(self,Admno,Name):\n",
    "        self._Name=Name\n",
    "        self._Admno=Admno\n",
    "    def getName(self):\n",
    "        return self._Name\n",
    "    def setAdmno(self):\n",
    "        return self._Admno\n",
    "        "
   ]
  },
  {
   "cell_type": "code",
   "execution_count": 37,
   "metadata": {},
   "outputs": [],
   "source": [
    "s= Student(23, \"Beatrice\")"
   ]
  },
  {
   "cell_type": "code",
   "execution_count": 35,
   "metadata": {},
   "outputs": [
    {
     "data": {
      "text/plain": [
       "'Beatrice'"
      ]
     },
     "execution_count": 35,
     "metadata": {},
     "output_type": "execute_result"
    }
   ],
   "source": [
    "s.getName()"
   ]
  },
  {
   "cell_type": "code",
   "execution_count": 13,
   "metadata": {},
   "outputs": [
    {
     "name": "stdout",
     "output_type": "stream",
     "text": [
      "['{\\n', ' \"cells\": [\\n', '  {\\n', '   \"cell_type\": \"markdown\",\\n', '   \"metadata\": {},\\n', '   \"source\": [\\n', '    \"# Quick Introduction to Jupyter Notebooks\\\\n\",\\n', '    \"\\\\n\",\\n', '    \"Throughout this course, we will be using Jupyter Notebooks.These notes are provided for you want to set it up in your Computer. \\\\n\",\\n', '    \"\\\\n\",\\n', '    \"## Introduction\\\\n\",\\n', '    \"The Jupyter Notebook is an interactive computing environment that enables users to author notebooks, which contain a complete and self-contained record of a computation. These notebooks can be shared more efficiently. The notebooks may contain:\\\\n\",\\n', '    \"* Live code\\\\n\",\\n', '    \"* Interactive widgets\\\\n\",\\n', '    \"* Plots\\\\n\",\\n', '    \"* Narrative text\\\\n\",\\n', '    \"* Equations\\\\n\",\\n', '    \"* Images\\\\n\",\\n', '    \"* Video\\\\n\",\\n', '    \"\\\\n\",\\n', '    \"It is good to note that \\\\\"Jupyter\\\\\" is a loose acronym meaning Julia, Python, and R; the primary languages supported by Jupyter. \\\\n\",\\n', '    \"\\\\n\",\\n', '    \"The notebook can allow a computational researcher to create reproducible documentation of their research. As Bioinformatics is datacentric, use of Jupyter Notebooks increases research transparency, hence promoting open science. \\\\n\",\\n', '    \"\\\\n\",\\n', '    \"## First Steps\\\\n\",\\n', '    \"\\\\n\",\\n', '    \"### Installation\\\\n\",\\n', '    \"\\\\n\",\\n', '    \"1. [Download Miniconda](https://www.anaconda.com/download/) for your specific OS to your home directory\\\\n\",\\n', '    \"    - Linux: `wget https://repo.continuum.io/miniconda/Miniconda3-latest-Linux-x86_64.sh`\\\\n\",\\n', '    \"    - Mac: `curl https://repo.continuum.io/miniconda/Miniconda3-latest-MacOSX-x86_64.sh`\\\\n\",\\n', '    \"2. Run:\\\\n\",\\n', '    \"    - `bash Miniconda3-latest-Linux-x86_64.sh`\\\\n\",\\n', '    \"    - `bash Miniconda3-latest-MacOSX-x86_64.sh`\\\\n\",\\n', '    \"3. Follow all the prompts: if unsure, accept defaults\\\\n\",\\n', '    \"4. Close and re-open your terminal\\\\n\",\\n', '    \"5. If the installation is successful, you should see a list of installed packages with\\\\n\",\\n', '    \"    - `conda list`\\\\n\",\\n', '    \"If the command cannot be found, you can add Anaconda bin to the path using:\\\\n\",\\n', '    \"    ` export PATH=~/anaconda3/bin:$PATH`\\\\n\",\\n', '    \"\\\\n\",\\n', '    \"For reproducible analysis, you can [create a conda environment](https://conda.io/docs/user-guide/tasks/manage-environments.html) with all the Python packages you used.\\\\n\",\\n', '    \"\\\\n\",\\n', '    \"    `conda create --name hackbio python jupyter`\\\\n\",\\n', '    \"    \\\\n\",\\n', '    \"To activate the conda environment:\\\\n\",\\n', '    \"    `source activate hackbio`\\\\n\",\\n', '    \"\\\\n\",\\n', '    \"Having set-up conda environment, you can install any package you need using pip. \\\\n\",\\n', '    \"\\\\n\",\\n', '    \"`conda install jupyter`\\\\n\",\\n', '    \"`conda install -c conda-forge jupyterlab`\\\\n\",\\n', '    \"\\\\n\",\\n', '    \"or by using pip\\\\n\",\\n', '    \"\\\\n\",\\n', '    \"`pip3 install jupyter`\\\\n\",\\n', '    \"\\\\n\",\\n', '    \"Then you can quickly launch it using:\\\\n\",\\n', '    \"\\\\n\",\\n', '    \"`jupyter notebook` or `jupyter lab`\\\\n\",\\n', '    \"\\\\n\",\\n', '    \"NB: We will use a jupyter lab for training. \\\\n\",\\n', '    \"\\\\n\",\\n', '    \"\\\\n\",\\n', '    \"A Jupyter notebook is made up of many cells. Each cell can contain Python code. You can execute a cell by clicking on it and pressing `Shift-Enter` or `Ctrl-Enter` (run without moving to the next line). \\\\n\",\\n', '    \"\\\\n\",\\n', '    \"### Further help\\\\n\",\\n', '    \"\\\\n\",\\n', '    \"To learn more about Jupyter notebooks, check [the official introduction](http://nbviewer.jupyter.org/github/jupyter/notebook/blob/master/docs/source/examples/Notebook/Notebook%20Basics.ipynb) and [some useful Jupyter Tricks](https://www.dataquest.io/blog/jupyter-notebook-tips-tricks-shortcuts/). \\\\n\",\\n', '    \"\\\\n\",\\n', '    \"Book: http://www.ict.ru.ac.za/Resources/cspw/thinkcspy3/thinkcspy3.pdf\\\\n\",\\n', '    \"\\\\n\",\\n', '    \"# Python for Bioinformatics\\\\n\",\\n', '    \"\\\\n\",\\n', '    \"## Introduction\\\\n\",\\n', '    \"\\\\n\",\\n', '    \"Python is a modern, robust, high-level programming language. It is straightforward to pick up even if you are entirely new to programming. \\\\n\",\\n', '    \"\\\\n\",\\n', '    \"Python, similar to other languages like Matlab or R, is interpreted hence runs slowly compared to C++, Fortran or Java. However, writing programs in Python is very quick. Python has an extensive collection of libraries for everything from scientific computing to web services. It caters for object-oriented and functional programming with a module system that allows large and complex applications to be developed in Python. \\\\n\",\\n', '    \"\\\\n\",\\n', '    \"These lectures are using Jupyter notebooks which mix Python code with documentation. The python notebooks can be run on a web server or stand-alone on a computer.\"\\n', '   ]\\n', '  },\\n', '  {\\n', '   \"cell_type\": \"code\",\\n', '   \"execution_count\": null,\\n', '   \"metadata\": {},\\n', '   \"outputs\": [],\\n', '   \"source\": []\\n', '  }\\n', ' ],\\n', ' \"metadata\": {\\n', '  \"kernelspec\": {\\n', '   \"display_name\": \"Python 3\",\\n', '   \"language\": \"python\",\\n', '   \"name\": \"python3\"\\n', '  },\\n', '  \"language_info\": {\\n', '   \"codemirror_mode\": {\\n', '    \"name\": \"ipython\",\\n', '    \"version\": 3\\n', '   },\\n', '   \"file_extension\": \".py\",\\n', '   \"mimetype\": \"text/x-python\",\\n', '   \"name\": \"python\",\\n', '   \"nbconvert_exporter\": \"python\",\\n', '   \"pygments_lexer\": \"ipython3\",\\n', '   \"version\": \"3.8.5\"\\n', '  }\\n', ' },\\n', ' \"nbformat\": 4,\\n', ' \"nbformat_minor\": 4\\n', '}\\n']\n"
     ]
    }
   ],
   "source": [
    "# Open a file\n",
    "with open(\"./Installation.ipynb\",\"r\")as myfile:\n",
    "    line=myfile.readlines()\n",
    "    print(line)"
   ]
  },
  {
   "cell_type": "code",
   "execution_count": null,
   "metadata": {},
   "outputs": [],
   "source": [
    "# scripting and modules\n",
    "\n"
   ]
  }
 ],
 "metadata": {
  "kernelspec": {
   "display_name": "Python 3",
   "language": "python",
   "name": "python3"
  },
  "language_info": {
   "codemirror_mode": {
    "name": "ipython",
    "version": 3
   },
   "file_extension": ".py",
   "mimetype": "text/x-python",
   "name": "python",
   "nbconvert_exporter": "python",
   "pygments_lexer": "ipython3",
   "version": "3.8.5"
  }
 },
 "nbformat": 4,
 "nbformat_minor": 4
}
